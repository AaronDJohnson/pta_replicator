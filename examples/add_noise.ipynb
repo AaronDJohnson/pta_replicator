{
 "cells": [
  {
   "cell_type": "code",
   "execution_count": null,
   "metadata": {},
   "outputs": [],
   "source": [
    "from white_noise import add_measurement_noise\n",
    "from red_noise import add_red_noise, add_gwb\n",
    "\n",
    "from simulate import load_pulsar, load_from_directories\n",
    "import matplotlib.pyplot as plt\n",
    "from simulate import make_ideal\n",
    "import pint\n",
    "import sys\n",
    "\n",
    "import numpy as np\n",
    "\n",
    "from loguru import logger\n",
    "pint.logging.setup(sink=sys.stderr, level=\"WARNING\", usecolors=True)\n",
    "\n",
    "%load_ext autoreload\n",
    "%autoreload 2"
   ]
  }
 ],
 "metadata": {
  "language_info": {
   "name": "python"
  }
 },
 "nbformat": 4,
 "nbformat_minor": 2
}
