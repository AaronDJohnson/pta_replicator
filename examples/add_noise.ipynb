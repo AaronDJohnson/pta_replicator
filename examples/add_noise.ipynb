{
 "cells": [
  {
   "cell_type": "code",
   "execution_count": 1,
   "metadata": {},
   "outputs": [
    {
     "name": "stdout",
     "output_type": "stream",
     "text": [
      "Warning: cannot find astropy, units support will not be available.\n"
     ]
    }
   ],
   "source": [
    "from pta_replicator.white_noise import add_measurement_noise\n",
    "from pta_replicator.red_noise import add_red_noise, add_gwb\n",
    "\n",
    "from pta_replicator.simulate import load_pulsar, load_from_directories\n",
    "import matplotlib.pyplot as plt\n",
    "from pta_replicator.simulate import make_ideal\n",
    "import pint\n",
    "import sys\n",
    "\n",
    "import numpy as np\n",
    "\n",
    "from loguru import logger\n",
    "pint.logging.setup(sink=sys.stderr, level=\"WARNING\", usecolors=True)\n",
    "\n",
    "%load_ext autoreload\n",
    "%autoreload 2"
   ]
  },
  {
   "cell_type": "markdown",
   "metadata": {},
   "source": [
    "### First load pulsars either one at a time or from a directory of `par` and `tim` files"
   ]
  },
  {
   "cell_type": "code",
   "execution_count": null,
   "metadata": {},
   "outputs": [],
   "source": [
    "# One at a time\n",
    "parfile = '/Users/aaron/Documents/GitHub/pta_replicator/minish/jpg00017/NANOGrav15yr_PulsarTiming_v2.0.0/narrowband/par/B1855+09_PINT_20220301.nb.par'\n",
    "timfile = '/Users/aaron/Documents/GitHub/pta_replicator/minish/jpg00017/NANOGrav15yr_PulsarTiming_v2.0.0/narrowband/tim/B1855+09_PINT_20220301.nb.tim'\n",
    "\n",
    "psr = load_pulsar(parfile, timfile)"
   ]
  },
  {
   "cell_type": "code",
   "execution_count": 2,
   "metadata": {},
   "outputs": [],
   "source": [
    "# From a directory\n",
    "pardir = '/Users/aaron/Documents/GitHub/pta_replicator/minish/jpg00017/NANOGrav15yr_PulsarTiming_v2.0.0/narrowband/par/'\n",
    "timdir = '/Users/aaron/Documents/GitHub/pta_replicator/minish/jpg00017/NANOGrav15yr_PulsarTiming_v2.0.0/narrowband/tim/'\n",
    "\n",
    "psrs = load_from_directories(pardir, timdir, num_psrs=2)  # Load 2 pulsars"
   ]
  },
  {
   "cell_type": "markdown",
   "metadata": {},
   "source": [
    "### Add measurement noise and red noise to each pulsar then a GWB to the entire list"
   ]
  },
  {
   "cell_type": "code",
   "execution_count": 3,
   "metadata": {},
   "outputs": [],
   "source": [
    "gammas = [-4.8, -2.8]\n",
    "log10_amps = [-13.7, -14.2]\n",
    "for ii, psr in enumerate(psrs):\n",
    "    make_ideal(psr)\n",
    "    add_measurement_noise(psr, efac=1.0)\n",
    "    add_red_noise(psr, log10_amplitude=log10_amps[ii], spectral_index=gammas[ii])\n",
    "add_gwb(psrs, log10_amplitude=-14, spectral_index=13/3)"
   ]
  },
  {
   "cell_type": "markdown",
   "metadata": {},
   "source": [
    "### We can check the added signals"
   ]
  },
  {
   "cell_type": "code",
   "execution_count": 4,
   "metadata": {},
   "outputs": [
    {
     "data": {
      "text/plain": [
       "{'B1937+21_white_noise_efac': 1.0,\n",
       " 'B1937+21_red_noise_amplitude': -14.2,\n",
       " 'B1937+21_red_noise_spectral_index': -2.8,\n",
       " 'B1937+21_gwb_amplitude': -14,\n",
       " 'B1937+21_gwb_spectral_index': 4.333333333333333}"
      ]
     },
     "execution_count": 4,
     "metadata": {},
     "output_type": "execute_result"
    }
   ],
   "source": [
    "psrs[1].added_signals"
   ]
  },
  {
   "cell_type": "code",
   "execution_count": null,
   "metadata": {},
   "outputs": [],
   "source": []
  }
 ],
 "metadata": {
  "kernelspec": {
   "display_name": "rosettaprise",
   "language": "python",
   "name": "python3"
  },
  "language_info": {
   "codemirror_mode": {
    "name": "ipython",
    "version": 3
   },
   "file_extension": ".py",
   "mimetype": "text/x-python",
   "name": "python",
   "nbconvert_exporter": "python",
   "pygments_lexer": "ipython3",
   "version": "3.10.12"
  }
 },
 "nbformat": 4,
 "nbformat_minor": 2
}
